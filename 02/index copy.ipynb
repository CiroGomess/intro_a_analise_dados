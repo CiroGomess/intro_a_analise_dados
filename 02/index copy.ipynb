{
 "cells": [
  {
   "cell_type": "markdown",
   "metadata": {},
   "source": [
    "# Desafio: \n",
    "\n",
    "Você trabalha em uma grande empresa de Cartão de Crédito e o diretor da empresa percebeu que o número de clientes que cancelam seus cartões tem aumentado significativamente, causando prejuízos enormes para a empresa\n",
    "\n",
    "O que fazer para evitar isso? Como saber as pessoas que têm maior tendência a cancelar o cartão?\n",
    "\n",
    "# O que temos:\n",
    "\n",
    "Temos 1 base de dados com informações dos clientes, tanto clientes atuais quanto clientes que cancelaram o cartão\n",
    "\n",
    "Download da Base de Dados: Botão na página\n",
    "\n",
    "Referência: https://www.kaggle.com/sakshigoyal7/credit-card-customers"
   ]
  }
 ],
 "metadata": {
  "kernelspec": {
   "display_name": "Python 3.10.2 64-bit",
   "language": "python",
   "name": "python3"
  },
  "language_info": {
   "codemirror_mode": {
    "name": "ipython",
    "version": 3
   },
   "file_extension": ".py",
   "mimetype": "text/x-python",
   "name": "python",
   "nbconvert_exporter": "python",
   "pygments_lexer": "ipython3",
   "version": "3.10.2"
  },
  "orig_nbformat": 4,
  "vscode": {
   "interpreter": {
    "hash": "df2b6396b4132c64865f674de6373ec5bfde6873429bb6d56fd128582c39a453"
   }
  }
 },
 "nbformat": 4,
 "nbformat_minor": 2
}
